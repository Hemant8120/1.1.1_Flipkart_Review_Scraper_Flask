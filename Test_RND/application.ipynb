{
 "cells": [
  {
   "cell_type": "code",
   "execution_count": 1,
   "id": "6fef2e32-c06d-4ebf-a186-5ae5ad3fffcd",
   "metadata": {},
   "outputs": [],
   "source": [
    "from flask import Flask, render_template, request,jsonify\n",
    "from flask_cors import CORS,cross_origin\n",
    "import requests\n",
    "from bs4 import BeautifulSoup as bs\n",
    "from urllib.request import urlopen as uReq"
   ]
  },
  {
   "cell_type": "code",
   "execution_count": 2,
   "id": "2f43066c-d83d-4d8e-93a0-da8194f5ec64",
   "metadata": {},
   "outputs": [],
   "source": [
    "# pip install flask"
   ]
  },
  {
   "cell_type": "code",
   "execution_count": 3,
   "id": "5b971f46-f324-4feb-8ec2-a4222bebdbe2",
   "metadata": {},
   "outputs": [],
   "source": [
    "# pip install flask_cors"
   ]
  },
  {
   "cell_type": "code",
   "execution_count": 4,
   "id": "48fa5a69-140a-41c3-84a8-36c4c99e3ed2",
   "metadata": {},
   "outputs": [],
   "source": [
    "searchstring = \"iphone11\""
   ]
  },
  {
   "cell_type": "code",
   "execution_count": 5,
   "id": "35f254be-d862-4372-bca1-bb21b54e3cc9",
   "metadata": {},
   "outputs": [],
   "source": [
    "flipcart_url = \"https://www.flipkart.com/search?q=\" + searchstring "
   ]
  },
  {
   "cell_type": "code",
   "execution_count": 6,
   "id": "bbe0c47c-ddcf-42ea-9d42-607775b14e3e",
   "metadata": {},
   "outputs": [
    {
     "data": {
      "text/plain": [
       "'https://www.flipkart.com/search?q=iphone11'"
      ]
     },
     "execution_count": 6,
     "metadata": {},
     "output_type": "execute_result"
    }
   ],
   "source": [
    "flipcart_url"
   ]
  },
  {
   "cell_type": "code",
   "execution_count": 7,
   "id": "c8644e77-e407-418b-8b85-0732f9dfbc44",
   "metadata": {},
   "outputs": [],
   "source": [
    "uclient = uReq(flipcart_url)"
   ]
  },
  {
   "cell_type": "code",
   "execution_count": 8,
   "id": "90b76d0f-45f8-4dcc-815c-6b3406caf023",
   "metadata": {},
   "outputs": [
    {
     "data": {
      "text/plain": [
       "<http.client.HTTPResponse at 0x1fcc75f9cc0>"
      ]
     },
     "execution_count": 8,
     "metadata": {},
     "output_type": "execute_result"
    }
   ],
   "source": [
    "uclient"
   ]
  },
  {
   "cell_type": "code",
   "execution_count": 9,
   "id": "58a5b079-fa50-46dd-821c-231f30db784d",
   "metadata": {},
   "outputs": [],
   "source": [
    "flipkartpage = uclient.read()"
   ]
  },
  {
   "cell_type": "code",
   "execution_count": null,
   "id": "9879ff7c-43b9-4630-a41c-be3eda4c1c49",
   "metadata": {},
   "outputs": [],
   "source": []
  },
  {
   "cell_type": "code",
   "execution_count": 10,
   "id": "ee41ca60-caa5-4683-b727-d25fc42db35c",
   "metadata": {},
   "outputs": [],
   "source": [
    "flipkart_html = bs(flipkartpage ,\"html.parser\")"
   ]
  },
  {
   "cell_type": "code",
   "execution_count": null,
   "id": "6636247f-ff40-4173-bb4b-414c66f4a2f3",
   "metadata": {},
   "outputs": [],
   "source": []
  },
  {
   "cell_type": "code",
   "execution_count": 11,
   "id": "0ef7181f-4a4b-4968-b94a-cab2d1dd67a4",
   "metadata": {},
   "outputs": [
    {
     "data": {
      "text/plain": [
       "'https://www.flipkart.com/apple-iphone-11-white-128-gb/p/itme32df47ea6742?pid=MOBFWQ6B7KKRXDDS&lid=LSTMOBFWQ6B7KKRXDDSULUZ0N&marketplace=FLIPKART&q=iphone11&store=tyy%2F4io&srno=s_1_1&otracker=search&iid=1a7d6e12-960f-485c-8380-2cb8dc49a077.MOBFWQ6B7KKRXDDS.SEARCH&ssid=vuttur3d740000001676109727214&qH=d6db477051465f9a'"
      ]
     },
     "execution_count": 11,
     "metadata": {},
     "output_type": "execute_result"
    }
   ],
   "source": [
    "'https://www.flipkart.com/apple-iphone-11-white-128-gb/p/itme32df47ea6742?pid=MOBFWQ6B7KKRXDDS&lid=LSTMOBFWQ6B7KKRXDDSULUZ0N&marketplace=FLIPKART&q=iphone11&store=tyy%2F4io&srno=s_1_1&otracker=search&iid=1a7d6e12-960f-485c-8380-2cb8dc49a077.MOBFWQ6B7KKRXDDS.SEARCH&ssid=vuttur3d740000001676109727214&qH=d6db477051465f9a'"
   ]
  },
  {
   "cell_type": "code",
   "execution_count": 12,
   "id": "5988db2e-f806-413e-80ac-0997a2141067",
   "metadata": {},
   "outputs": [],
   "source": [
    "bigboxes = flipkart_html.findAll(\"div\" , {\"class\": \"_1AtVbE col-12-12\"})"
   ]
  },
  {
   "cell_type": "code",
   "execution_count": 13,
   "id": "bbd7af0e-1c00-4ab4-8c78-afeca2356518",
   "metadata": {},
   "outputs": [
    {
     "data": {
      "text/plain": [
       "30"
      ]
     },
     "execution_count": 13,
     "metadata": {},
     "output_type": "execute_result"
    }
   ],
   "source": [
    "len(bigboxes)"
   ]
  },
  {
   "cell_type": "code",
   "execution_count": 14,
   "id": "f7783225-a0d0-47fd-bd22-f9121511d0e5",
   "metadata": {},
   "outputs": [],
   "source": [
    "box = bigboxes[2]"
   ]
  },
  {
   "cell_type": "code",
   "execution_count": 15,
   "id": "82903d84-4863-4e20-b7ba-abeae16ebbd7",
   "metadata": {},
   "outputs": [
    {
     "data": {
      "text/plain": [
       "'https://www.flipkart.com/apple-iphone-11-white-128-gb/p/itme32df47ea6742?pid=MOBFWQ6B7KKRXDDS&amp;lid=LSTMOBFWQ6B7KKRXDDSULUZ0N&amp;marketplace=FLIPKART&amp;q=iphone11&amp;store=tyy%2F4io&amp;srno=s_1_1&amp;otracker=search&amp;fm=organic&amp;iid=cbad50bb-39eb-4c43-8f00-5dd17e4f58ea.MOBFWQ6B7KKRXDDS.SEARCH&amp;ppt=None&amp;ppn=None&amp;ssid=arzbus405c0000001676110285064&amp;qH=d6db477051465f9a'"
      ]
     },
     "execution_count": 15,
     "metadata": {},
     "output_type": "execute_result"
    }
   ],
   "source": [
    "\"https://www.flipkart.com/apple-iphone-11-white-128-gb/p/itme32df47ea6742?pid=MOBFWQ6B7KKRXDDS&amp;lid=LSTMOBFWQ6B7KKRXDDSULUZ0N&amp;marketplace=FLIPKART&amp;q=iphone11&amp;store=tyy%2F4io&amp;srno=s_1_1&amp;otracker=search&amp;fm=organic&amp;iid=cbad50bb-39eb-4c43-8f00-5dd17e4f58ea.MOBFWQ6B7KKRXDDS.SEARCH&amp;ppt=None&amp;ppn=None&amp;ssid=arzbus405c0000001676110285064&amp;qH=d6db477051465f9a\""
   ]
  },
  {
   "cell_type": "code",
   "execution_count": 16,
   "id": "3bd49514-0a98-459b-bbe5-733d7a07a16b",
   "metadata": {},
   "outputs": [],
   "source": [
    "productlink = \"https://www.flipkart.com\"+box.div.div.div.a['href']"
   ]
  },
  {
   "cell_type": "code",
   "execution_count": 17,
   "id": "753632a8-5ab1-41e5-8040-463754bfc6d2",
   "metadata": {},
   "outputs": [
    {
     "data": {
      "text/plain": [
       "'https://www.flipkart.com/apple-iphone-11-white-128-gb/p/itme32df47ea6742?pid=MOBFWQ6B7KKRXDDS&lid=LSTMOBFWQ6B7KKRXDDSULUZ0N&marketplace=FLIPKART&q=iphone11&store=tyy%2F4io&spotlightTagId=FkPickId_tyy%2F4io&srno=s_1_1&otracker=search&fm=organic&iid=ccacc7a2-bcf0-46fb-bb55-b235288f47ad.MOBFWQ6B7KKRXDDS.SEARCH&ppt=None&ppn=None&ssid=6nvahilgzk0000001689729532777&qH=d6db477051465f9a'"
      ]
     },
     "execution_count": 17,
     "metadata": {},
     "output_type": "execute_result"
    }
   ],
   "source": [
    "productlink"
   ]
  },
  {
   "cell_type": "code",
   "execution_count": 18,
   "id": "c9f4dce9-e6dd-4729-9fac-7be635f34df6",
   "metadata": {},
   "outputs": [],
   "source": [
    "productreq = requests.get(productlink)"
   ]
  },
  {
   "cell_type": "code",
   "execution_count": 19,
   "id": "fa7b061b-258d-40a0-be5f-413b8681328e",
   "metadata": {},
   "outputs": [
    {
     "data": {
      "text/plain": [
       "<Response [200]>"
      ]
     },
     "execution_count": 19,
     "metadata": {},
     "output_type": "execute_result"
    }
   ],
   "source": [
    "productreq"
   ]
  },
  {
   "cell_type": "code",
   "execution_count": 20,
   "id": "24ca4f6e-5603-4c74-842c-d7caa52318c8",
   "metadata": {},
   "outputs": [],
   "source": [
    "prod_html = bs(productreq.text,\"html.parser\")"
   ]
  },
  {
   "cell_type": "code",
   "execution_count": 21,
   "id": "5eeed3b5-db23-420d-9169-91c136ebb5a5",
   "metadata": {},
   "outputs": [],
   "source": [
    "commnet_box = prod_html.find_all(\"div\", {\"class\" : \"_16PBlm\"})"
   ]
  },
  {
   "cell_type": "code",
   "execution_count": 22,
   "id": "73f7f7aa-ee92-48bb-8307-abd654b54858",
   "metadata": {},
   "outputs": [
    {
     "data": {
      "text/plain": [
       "11"
      ]
     },
     "execution_count": 22,
     "metadata": {},
     "output_type": "execute_result"
    }
   ],
   "source": [
    "len(commnet_box)"
   ]
  },
  {
   "cell_type": "code",
   "execution_count": 23,
   "id": "f284e6b6-8fc2-462b-a68f-f1554b73f0fb",
   "metadata": {},
   "outputs": [
    {
     "name": "stdout",
     "output_type": "stream",
     "text": [
      "5\n",
      "5\n",
      "5\n",
      "5\n",
      "5\n",
      "5\n",
      "5\n",
      "5\n",
      "5\n",
      "5\n"
     ]
    },
    {
     "ename": "AttributeError",
     "evalue": "'NoneType' object has no attribute 'div'",
     "output_type": "error",
     "traceback": [
      "\u001b[1;31m---------------------------------------------------------------------------\u001b[0m",
      "\u001b[1;31mAttributeError\u001b[0m                            Traceback (most recent call last)",
      "\u001b[1;32m<ipython-input-23-5bb370b41bbe>\u001b[0m in \u001b[0;36m<module>\u001b[1;34m\u001b[0m\n\u001b[0;32m      1\u001b[0m \u001b[1;32mfor\u001b[0m \u001b[0mi\u001b[0m \u001b[1;32min\u001b[0m \u001b[0mcommnet_box\u001b[0m \u001b[1;33m:\u001b[0m\u001b[1;33m\u001b[0m\u001b[0m\n\u001b[1;32m----> 2\u001b[1;33m     \u001b[0mprint\u001b[0m\u001b[1;33m(\u001b[0m\u001b[0mi\u001b[0m\u001b[1;33m.\u001b[0m\u001b[0mdiv\u001b[0m\u001b[1;33m.\u001b[0m\u001b[0mdiv\u001b[0m\u001b[1;33m.\u001b[0m\u001b[0mdiv\u001b[0m\u001b[1;33m.\u001b[0m\u001b[0mdiv\u001b[0m\u001b[1;33m.\u001b[0m\u001b[0mtext\u001b[0m\u001b[1;33m)\u001b[0m\u001b[1;33m\u001b[0m\u001b[0m\n\u001b[0m",
      "\u001b[1;31mAttributeError\u001b[0m: 'NoneType' object has no attribute 'div'"
     ]
    }
   ],
   "source": [
    "for i in commnet_box :\n",
    "    print(i.div.div.div.div.text)"
   ]
  },
  {
   "cell_type": "code",
   "execution_count": 24,
   "id": "848697b7-db71-4b7e-bff8-45b1a1311065",
   "metadata": {},
   "outputs": [
    {
     "data": {
      "text/plain": [
       "[<div><div class=\"\">Camera is awesome<br/>Best battery backup<br/>A performer 👌🏻<br/>It will be a real value for money if they provide charger and earphone inbox!</div><span class=\"_1H-bmy\"><span>READ MORE</span></span></div>,\n",
       " <div class=\"\">Camera is awesome<br/>Best battery backup<br/>A performer 👌🏻<br/>It will be a real value for money if they provide charger and earphone inbox!</div>,\n",
       " <div></div>]"
      ]
     },
     "execution_count": 24,
     "metadata": {},
     "output_type": "execute_result"
    }
   ],
   "source": [
    "commnet_box[1].div.div.find_all(\"div\" ,{\"class\" : \"\"})"
   ]
  },
  {
   "cell_type": "code",
   "execution_count": 25,
   "id": "d9ae2a44-b4f7-450b-93d6-ba98073fcbdd",
   "metadata": {},
   "outputs": [
    {
     "name": "stdout",
     "output_type": "stream",
     "text": [
      "Very very good\n",
      "\n",
      "\n",
      "Camera is awesomeBest battery backupA performer 👌🏻It will be a real value for money if they provide charger and earphone inbox!\n",
      "\n",
      "\n",
      "Value for money 😍\n",
      "\n",
      "\n",
      "This is amazing at all\n",
      "\n",
      "\n",
      "Excellent Phone.\n",
      "\n",
      "\n",
      "It’s really awesome\n",
      "\n",
      "\n",
      "Perfect Product!!\n",
      "\n",
      "\n",
      "Go for iPhone 11 , if confused between iPhone 11 or iPhone 12 mini.Battery Life is enhanced , it worked for complete 2 days without charging it. Explored new features of taking screenshot by clicking on apple logo by Haptic Touch , Portrait mode with stage effect enhanced & slow motion selfie.\n",
      "\n",
      "\n",
      "Good Camera\n",
      "\n",
      "\n",
      "Feeling awesome after getting the delivery of my phone. Dual speakers makes the sound quality very loud. Amazing!!\n",
      "\n",
      "\n"
     ]
    },
    {
     "ename": "AttributeError",
     "evalue": "'NoneType' object has no attribute 'div'",
     "output_type": "error",
     "traceback": [
      "\u001b[1;31m---------------------------------------------------------------------------\u001b[0m",
      "\u001b[1;31mAttributeError\u001b[0m                            Traceback (most recent call last)",
      "\u001b[1;32m<ipython-input-25-80e0fd8e1fd7>\u001b[0m in \u001b[0;36m<module>\u001b[1;34m\u001b[0m\n\u001b[0;32m      1\u001b[0m \u001b[1;32mfor\u001b[0m \u001b[0mi\u001b[0m \u001b[1;32min\u001b[0m \u001b[0mcommnet_box\u001b[0m \u001b[1;33m:\u001b[0m\u001b[1;33m\u001b[0m\u001b[0m\n\u001b[1;32m----> 2\u001b[1;33m     \u001b[0mprint\u001b[0m\u001b[1;33m(\u001b[0m\u001b[0mi\u001b[0m\u001b[1;33m.\u001b[0m\u001b[0mdiv\u001b[0m\u001b[1;33m.\u001b[0m\u001b[0mdiv\u001b[0m\u001b[1;33m.\u001b[0m\u001b[0mfind_all\u001b[0m\u001b[1;33m(\u001b[0m\u001b[1;34m\"div\"\u001b[0m \u001b[1;33m,\u001b[0m\u001b[1;33m{\u001b[0m\u001b[1;34m\"class\"\u001b[0m \u001b[1;33m:\u001b[0m \u001b[1;34m\"\"\u001b[0m\u001b[1;33m}\u001b[0m\u001b[1;33m)\u001b[0m\u001b[1;33m[\u001b[0m\u001b[1;36m0\u001b[0m\u001b[1;33m]\u001b[0m\u001b[1;33m.\u001b[0m\u001b[0mdiv\u001b[0m\u001b[1;33m.\u001b[0m\u001b[0mtext\u001b[0m\u001b[1;33m)\u001b[0m\u001b[1;33m\u001b[0m\u001b[0m\n\u001b[0m\u001b[0;32m      3\u001b[0m     \u001b[0mprint\u001b[0m\u001b[1;33m(\u001b[0m\u001b[1;34m\"\\n\"\u001b[0m\u001b[1;33m)\u001b[0m\u001b[1;33m\u001b[0m\u001b[0m\n",
      "\u001b[1;31mAttributeError\u001b[0m: 'NoneType' object has no attribute 'div'"
     ]
    }
   ],
   "source": [
    "for i in commnet_box : \n",
    "    print(i.div.div.find_all(\"div\" ,{\"class\" : \"\"})[0].div.text)\n",
    "    print(\"\\n\")"
   ]
  },
  {
   "cell_type": "code",
   "execution_count": 26,
   "id": "33896c98-1ab9-4a33-aeb9-fa7c8450df7f",
   "metadata": {},
   "outputs": [
    {
     "data": {
      "text/plain": [
       "'Vishnu Ramakrishnan'"
      ]
     },
     "execution_count": 26,
     "metadata": {},
     "output_type": "execute_result"
    }
   ],
   "source": [
    "commnet_box[1].div.div.find_all(\"p\" , {\"class\" :\"_2sc7ZR _2V5EHH\" })[0].text"
   ]
  },
  {
   "cell_type": "code",
   "execution_count": 27,
   "id": "e6e1cb08-38de-4a32-819f-058ac1999d57",
   "metadata": {},
   "outputs": [
    {
     "name": "stdout",
     "output_type": "stream",
     "text": [
      "Manish  Deshlahare\n",
      "Vishnu Ramakrishnan\n",
      "Dev\n",
      "Flipkart Customer\n",
      "Shwarif  Hussain\n",
      "vikash  Yadav\n",
      "Vikram rapolu\n",
      "Flipkart Customer\n",
      "Steevan Rattra \n",
      "Abhishek Sachdeva\n"
     ]
    },
    {
     "ename": "AttributeError",
     "evalue": "'NoneType' object has no attribute 'div'",
     "output_type": "error",
     "traceback": [
      "\u001b[1;31m---------------------------------------------------------------------------\u001b[0m",
      "\u001b[1;31mAttributeError\u001b[0m                            Traceback (most recent call last)",
      "\u001b[1;32m<ipython-input-27-43f0f7b10d87>\u001b[0m in \u001b[0;36m<module>\u001b[1;34m\u001b[0m\n\u001b[0;32m      1\u001b[0m \u001b[1;32mfor\u001b[0m \u001b[0mi\u001b[0m \u001b[1;32min\u001b[0m \u001b[0mcommnet_box\u001b[0m\u001b[1;33m:\u001b[0m\u001b[1;33m\u001b[0m\u001b[0m\n\u001b[1;32m----> 2\u001b[1;33m     \u001b[0mprint\u001b[0m\u001b[1;33m(\u001b[0m\u001b[0mi\u001b[0m\u001b[1;33m.\u001b[0m\u001b[0mdiv\u001b[0m\u001b[1;33m.\u001b[0m\u001b[0mdiv\u001b[0m\u001b[1;33m.\u001b[0m\u001b[0mfind_all\u001b[0m\u001b[1;33m(\u001b[0m\u001b[1;34m\"p\"\u001b[0m \u001b[1;33m,\u001b[0m \u001b[1;33m{\u001b[0m\u001b[1;34m\"class\"\u001b[0m \u001b[1;33m:\u001b[0m\u001b[1;34m\"_2sc7ZR _2V5EHH\"\u001b[0m \u001b[1;33m}\u001b[0m\u001b[1;33m)\u001b[0m\u001b[1;33m[\u001b[0m\u001b[1;36m0\u001b[0m\u001b[1;33m]\u001b[0m\u001b[1;33m.\u001b[0m\u001b[0mtext\u001b[0m\u001b[1;33m)\u001b[0m\u001b[1;33m\u001b[0m\u001b[0m\n\u001b[0m",
      "\u001b[1;31mAttributeError\u001b[0m: 'NoneType' object has no attribute 'div'"
     ]
    }
   ],
   "source": [
    "for i in commnet_box:\n",
    "    print(i.div.div.find_all(\"p\" , {\"class\" :\"_2sc7ZR _2V5EHH\" })[0].text)"
   ]
  }
 ],
 "metadata": {
  "kernelspec": {
   "display_name": "Python 3 (ipykernel)",
   "language": "python",
   "name": "python3"
  },
  "language_info": {
   "codemirror_mode": {
    "name": "ipython",
    "version": 3
   },
   "file_extension": ".py",
   "mimetype": "text/x-python",
   "name": "python",
   "nbconvert_exporter": "python",
   "pygments_lexer": "ipython3",
   "version": "3.6.2"
  }
 },
 "nbformat": 4,
 "nbformat_minor": 5
}
